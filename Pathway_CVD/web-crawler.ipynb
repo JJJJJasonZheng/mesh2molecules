{
 "cells": [
  {
   "cell_type": "code",
   "execution_count": 78,
   "metadata": {},
   "outputs": [],
   "source": [
    "import urllib.request\n",
    "import urllib\n",
    "import re\n",
    "import pandas as pd\n",
    "import math"
   ]
  },
  {
   "cell_type": "code",
   "execution_count": 57,
   "metadata": {},
   "outputs": [],
   "source": [
    "CVDfile = './cvd.csv'\n",
    "df = pd.read_csv(CVDfile)"
   ]
  },
  {
   "cell_type": "code",
   "execution_count": 73,
   "metadata": {},
   "outputs": [
    {
     "name": "stdout",
     "output_type": "stream",
     "text": [
      "255\n"
     ]
    }
   ],
   "source": [
    "df.head()\n",
    "meshDes = []\n",
    "mesh = []\n",
    "for i in df['name']:\n",
    "    #print(i)\n",
    "    name = i.split()[0]\n",
    "    name = name.split(',')[0]\n",
    "    meshDes.append(name)\n",
    "for i in meshDes:\n",
    "    if i not in mesh:\n",
    "        mesh.append(i)\n",
    "print(len(mesh))"
   ]
  },
  {
   "cell_type": "code",
   "execution_count": 97,
   "metadata": {},
   "outputs": [
    {
     "data": {
      "text/plain": [
       "'Cardiovascular'"
      ]
     },
     "execution_count": 97,
     "metadata": {},
     "output_type": "execute_result"
    }
   ],
   "source": [
    "urls = []\n",
    "for i in mesh:\n",
    "    url = \"https://reactome.org/content/query?q=\" + i + \"&species=Homo+sapiens&types=Pathway&cluster=true\"\n",
    "    #print(url)\n",
    "    urls.append(url)"
   ]
  },
  {
   "cell_type": "code",
   "execution_count": 104,
   "metadata": {},
   "outputs": [
    {
     "data": {
      "text/plain": [
       "{'Cardiovascular': ['1', '2'], 'Heart': ['1', '2']}"
      ]
     },
     "execution_count": 104,
     "metadata": {},
     "output_type": "execute_result"
    }
   ],
   "source": [
    "dic = {}\n",
    "l = ['1', '2']\n",
    "dic[mesh[0]] = l\n",
    "dic[mesh[1]] = l\n",
    "dic"
   ]
  },
  {
   "cell_type": "markdown",
   "metadata": {},
   "source": [
    "## Find the whole number of the results"
   ]
  },
  {
   "cell_type": "code",
   "execution_count": 107,
   "metadata": {},
   "outputs": [
    {
     "name": "stdout",
     "output_type": "stream",
     "text": [
      "Cardiovascular  is successful!\n",
      "Heart  is successful!\n"
     ]
    }
   ],
   "source": [
    "dic = {}\n",
    "for i in range(len(urls)):\n",
    "    url = urls[i]\n",
    "    flag = 0\n",
    "    try:\n",
    "        request = urllib.request.Request(url)\n",
    "        response = urllib.request.urlopen(request)\n",
    "        content = response.read().decode('ISO-8859-1')\n",
    "        #print(content)\n",
    "        pattern = re.compile('Filter.*?<strong>(.*?)</strong>.*of.*<strong>(.*?)</strong>')\n",
    "        pages = re.findall(pattern, content)\n",
    "        #print(pages)\n",
    "        print(mesh[i],' is successful!')\n",
    "        \n",
    "        x = int(pages[0][0])\n",
    "        n = int(pages[0][1])\n",
    "        pageSum = math.ceil(n/x)\n",
    "        \n",
    "        temp = []\n",
    "\n",
    "        for j in range(pageSum):\n",
    "            url_page = url + '&page=' + str(j+1)\n",
    "            try:\n",
    "                request = urllib.request.Request(url_page)\n",
    "                response = urllib.request.urlopen(request)\n",
    "                content = response.read().decode('ISO-8859-1')\n",
    "                #print(content)\n",
    "                pattern = re.compile('<strong>Identifier: </strong>(R-HSA-\\d+)')\n",
    "                items = re.findall(pattern, content)\n",
    "                for k in items:\n",
    "                    temp.append(k)\n",
    "\n",
    "            except urllib.request.URLError as e:\n",
    "                if hasattr(e,\"code\"):\n",
    "                    print(e.code)\n",
    "                if hasattr(e,\"reason\"):\n",
    "                    print(e.reason)\n",
    "                    \n",
    "        dic[mesh[i]] = temp\n",
    "\n",
    "    except urllib.request.URLError as e:\n",
    "        print(mesh[i], 'is failed!')\n",
    "        if hasattr(e,\"code\"):\n",
    "            print(e.code)\n",
    "        if hasattr(e,\"reason\"):\n",
    "            print(e.reason)"
   ]
  }
 ],
 "metadata": {
  "kernelspec": {
   "display_name": "Python 3",
   "language": "python",
   "name": "python3"
  },
  "language_info": {
   "codemirror_mode": {
    "name": "ipython",
    "version": 3
   },
   "file_extension": ".py",
   "mimetype": "text/x-python",
   "name": "python",
   "nbconvert_exporter": "python",
   "pygments_lexer": "ipython3",
   "version": "3.6.5"
  }
 },
 "nbformat": 4,
 "nbformat_minor": 2
}
