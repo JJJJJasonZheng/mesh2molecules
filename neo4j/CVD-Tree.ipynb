{
 "cells": [
  {
   "cell_type": "markdown",
   "metadata": {},
   "source": [
    "### Counter-I (MeSH search)"
   ]
  },
  {
   "cell_type": "code",
   "execution_count": 16,
   "metadata": {},
   "outputs": [],
   "source": [
    "import json\n",
    "import pandas as pd\n",
    "import matplotlib.pyplot as plt\n",
    "from collections import Counter\n",
    "import seaborn as sns\n",
    "sns.set()"
   ]
  },
  {
   "cell_type": "markdown",
   "metadata": {},
   "source": [
    "#### Tree"
   ]
  },
  {
   "cell_type": "code",
   "execution_count": 56,
   "metadata": {},
   "outputs": [],
   "source": [
    "meshtree_file = \"./mtrees2020.bin\" "
   ]
  },
  {
   "cell_type": "code",
   "execution_count": 59,
   "metadata": {},
   "outputs": [],
   "source": [
    "Tree = []\n",
    "id2name = {}\n",
    "name2id = {}\n",
    "with open(meshtree_file, \"r\") as ftree:\n",
    "    for line in ftree:\n",
    "        term_tree = line.strip().split(\";\")\n",
    "        cur_term = term_tree[0]\n",
    "        cur_tree = term_tree[1]\n",
    "        \n",
    "        id2name.update({cur_tree:cur_term})                        \n",
    "        name2id.update({cur_term:cur_tree})\n",
    "        Tree.append({'id':cur_tree ,'name':cur_term})"
   ]
  },
  {
   "cell_type": "code",
   "execution_count": 60,
   "metadata": {},
   "outputs": [
    {
     "data": {
      "text/plain": [
       "60666"
      ]
     },
     "execution_count": 60,
     "metadata": {},
     "output_type": "execute_result"
    }
   ],
   "source": [
    "len(Tree)"
   ]
  },
  {
   "cell_type": "code",
   "execution_count": 61,
   "metadata": {},
   "outputs": [],
   "source": [
    "CVDTree = []\n",
    "for name,ID in name2id.items():\n",
    "    if 'C14' in ID:\n",
    "            CVDTree.append({\"name\": name, \"ID\":ID})\n"
   ]
  },
  {
   "cell_type": "code",
   "execution_count": 62,
   "metadata": {},
   "outputs": [
    {
     "data": {
      "text/plain": [
       "204"
      ]
     },
     "execution_count": 62,
     "metadata": {},
     "output_type": "execute_result"
    }
   ],
   "source": [
    "len(list(CVDTree))"
   ]
  },
  {
   "cell_type": "code",
   "execution_count": 63,
   "metadata": {},
   "outputs": [],
   "source": [
    "CVD = pd.DataFrame(CVDTree)\n",
    "CVD = CVD.set_index('name')\n",
    "#CVD = CVD.sort_values(\"ID\",ascending =True)"
   ]
  },
  {
   "cell_type": "code",
   "execution_count": 64,
   "metadata": {},
   "outputs": [
    {
     "data": {
      "text/html": [
       "<div>\n",
       "<style scoped>\n",
       "    .dataframe tbody tr th:only-of-type {\n",
       "        vertical-align: middle;\n",
       "    }\n",
       "\n",
       "    .dataframe tbody tr th {\n",
       "        vertical-align: top;\n",
       "    }\n",
       "\n",
       "    .dataframe thead th {\n",
       "        text-align: right;\n",
       "    }\n",
       "</style>\n",
       "<table border=\"1\" class=\"dataframe\">\n",
       "  <thead>\n",
       "    <tr style=\"text-align: right;\">\n",
       "      <th></th>\n",
       "      <th>ID</th>\n",
       "    </tr>\n",
       "    <tr>\n",
       "      <th>name</th>\n",
       "      <th></th>\n",
       "    </tr>\n",
       "  </thead>\n",
       "  <tbody>\n",
       "    <tr>\n",
       "      <th>Aneurysm, Infected</th>\n",
       "      <td>C14.907.055.131</td>\n",
       "    </tr>\n",
       "    <tr>\n",
       "      <th>Endocarditis, Bacterial</th>\n",
       "      <td>C14.280.282.407</td>\n",
       "    </tr>\n",
       "    <tr>\n",
       "      <th>Endocarditis, Subacute Bacterial</th>\n",
       "      <td>C14.280.282.407.407</td>\n",
       "    </tr>\n",
       "    <tr>\n",
       "      <th>Lemierre Syndrome</th>\n",
       "      <td>C14.907.940.740.910.500</td>\n",
       "    </tr>\n",
       "    <tr>\n",
       "      <th>Syphilis, Cardiovascular</th>\n",
       "      <td>C14.260.500</td>\n",
       "    </tr>\n",
       "  </tbody>\n",
       "</table>\n",
       "</div>"
      ],
      "text/plain": [
       "                                                       ID\n",
       "name                                                     \n",
       "Aneurysm, Infected                        C14.907.055.131\n",
       "Endocarditis, Bacterial                   C14.280.282.407\n",
       "Endocarditis, Subacute Bacterial      C14.280.282.407.407\n",
       "Lemierre Syndrome                 C14.907.940.740.910.500\n",
       "Syphilis, Cardiovascular                      C14.260.500"
      ]
     },
     "execution_count": 64,
     "metadata": {},
     "output_type": "execute_result"
    }
   ],
   "source": [
    "CVD.head()"
   ]
  },
  {
   "cell_type": "code",
   "execution_count": 65,
   "metadata": {},
   "outputs": [],
   "source": [
    "CVD.to_csv(\"cvd.csv\")"
   ]
  },
  {
   "cell_type": "markdown",
   "metadata": {},
   "source": [
    "### New Version "
   ]
  },
  {
   "cell_type": "code",
   "execution_count": 66,
   "metadata": {},
   "outputs": [],
   "source": [
    "CVDTree = []\n",
    "id2name = {}\n",
    "name2id = {}\n",
    "with open(meshtree_file, \"r\") as ftree:\n",
    "    for line in ftree:\n",
    "        term_tree = line.strip().split(\";\")\n",
    "        cur_term = term_tree[0]\n",
    "        cur_tree = term_tree[1]\n",
    "        \n",
    "        if 'C14' in cur_tree:\n",
    "            CVDTree.append({'id':cur_tree, 'name':cur_term})"
   ]
  },
  {
   "cell_type": "code",
   "execution_count": 67,
   "metadata": {},
   "outputs": [],
   "source": [
    "temp = pd.DataFrame(CVDTree)\n",
    "temp = temp.set_index('id')"
   ]
  },
  {
   "cell_type": "code",
   "execution_count": 68,
   "metadata": {},
   "outputs": [
    {
     "data": {
      "text/plain": [
       "651"
      ]
     },
     "execution_count": 68,
     "metadata": {},
     "output_type": "execute_result"
    }
   ],
   "source": [
    "len(CVDTree)"
   ]
  },
  {
   "cell_type": "code",
   "execution_count": 69,
   "metadata": {},
   "outputs": [
    {
     "data": {
      "text/plain": [
       "<bound method NDFrame.head of                                                                       name\n",
       "id                                                                        \n",
       "C14                                                Cardiovascular Diseases\n",
       "C14.240                                       Cardiovascular Abnormalities\n",
       "C14.240.400                                      Heart Defects, Congenital\n",
       "C14.240.400.021                                    22q11 Deletion Syndrome\n",
       "C14.240.400.021.500                                      DiGeorge Syndrome\n",
       "C14.240.400.044                                          Alagille Syndrome\n",
       "C14.240.400.090                                         Aortic Coarctation\n",
       "C14.240.400.145                 Arrhythmogenic Right Ventricular Dysplasia\n",
       "C14.240.400.172                                             Barth Syndrome\n",
       "C14.240.400.200                                            Cor Triatriatum\n",
       "C14.240.400.210                                  Coronary Vessel Anomalies\n",
       "C14.240.400.210.125                         Anomalous Left Coronary Artery\n",
       "C14.240.400.210.249                           Bland White Garland Syndrome\n",
       "C14.240.400.210.500                                    Myocardial Bridging\n",
       "C14.240.400.220                                           Crisscross Heart\n",
       "C14.240.400.280                                               Dextrocardia\n",
       "C14.240.400.280.500                                    Kartagener Syndrome\n",
       "C14.240.400.340                                  Ductus Arteriosus, Patent\n",
       "C14.240.400.395                                            Ebstein Anomaly\n",
       "C14.240.400.422                                             Ectopia Cordis\n",
       "C14.240.400.450                                        Eisenmenger Complex\n",
       "C14.240.400.560                                       Heart Septal Defects\n",
       "C14.240.400.560.098                           Aortopulmonary Septal Defect\n",
       "C14.240.400.560.098.500                     Truncus Arteriosus, Persistent\n",
       "C14.240.400.560.350                            Endocardial Cushion Defects\n",
       "C14.240.400.560.375                           Heart Septal Defects, Atrial\n",
       "C14.240.400.560.375.258                              Foramen Ovale, Patent\n",
       "C14.240.400.560.375.518                               Lutembacher Syndrome\n",
       "C14.240.400.560.540                      Heart Septal Defects, Ventricular\n",
       "C14.240.400.592                                        Heterotaxy Syndrome\n",
       "...                                                                    ...\n",
       "C14.907.940.090.530                                   Giant Cell Arteritis\n",
       "C14.907.940.090.720                                   Polyarteritis Nodosa\n",
       "C14.907.940.090.800                                     Takayasu Arteritis\n",
       "C14.907.940.100                                            Behcet Syndrome\n",
       "C14.907.940.320                                             Cogan Syndrome\n",
       "C14.907.940.530                               Malignant Atrophic Papulosis\n",
       "C14.907.940.560                          Mucocutaneous Lymph Node Syndrome\n",
       "C14.907.940.740                                                  Phlebitis\n",
       "C14.907.940.740.910                                       Thrombophlebitis\n",
       "C14.907.940.740.910.500                                  Lemierre Syndrome\n",
       "C14.907.940.777                                 Purpura, Schoenlein-Henoch\n",
       "C14.907.940.815                                         Retinal Vasculitis\n",
       "C14.907.940.890                                      Shwartzman Phenomenon\n",
       "C14.907.940.897                                        Systemic Vasculitis\n",
       "C14.907.940.897.249      Anti-Neutrophil Cytoplasmic Antibody-Associate...\n",
       "C14.907.940.897.249.249                             Churg-Strauss Syndrome\n",
       "C14.907.940.897.249.500                           Microscopic Polyangiitis\n",
       "C14.907.940.897.249.750                   Granulomatosis with Polyangiitis\n",
       "C14.907.940.897.500                                   Polyarteritis Nodosa\n",
       "C14.907.940.897.750                                  Rheumatoid Vasculitis\n",
       "C14.907.940.905                                 Thromboangiitis Obliterans\n",
       "C14.907.940.907                         Vasculitis, Central Nervous System\n",
       "C14.907.940.907.175                 AIDS Arteritis, Central Nervous System\n",
       "C14.907.940.907.700                                   Giant Cell Arteritis\n",
       "C14.907.940.907.850               Lupus Vasculitis, Central Nervous System\n",
       "C14.907.940.910                    Vasculitis, Leukocytoclastic, Cutaneous\n",
       "C14.907.946                                                     Vasoplegia\n",
       "C14.907.952                                           Venous Insufficiency\n",
       "C14.907.952.760                                     Postphlebitic Syndrome\n",
       "C14.907.952.880                                    Postthrombotic Syndrome\n",
       "\n",
       "[651 rows x 1 columns]>"
      ]
     },
     "execution_count": 69,
     "metadata": {},
     "output_type": "execute_result"
    }
   ],
   "source": [
    "temp.head"
   ]
  },
  {
   "cell_type": "code",
   "execution_count": 71,
   "metadata": {},
   "outputs": [],
   "source": [
    "temp.to_csv(\"cvd.csv\")"
   ]
  },
  {
   "cell_type": "code",
   "execution_count": null,
   "metadata": {},
   "outputs": [],
   "source": []
  }
 ],
 "metadata": {
  "kernelspec": {
   "display_name": "Python 3",
   "language": "python",
   "name": "python3"
  },
  "language_info": {
   "codemirror_mode": {
    "name": "ipython",
    "version": 3
   },
   "file_extension": ".py",
   "mimetype": "text/x-python",
   "name": "python",
   "nbconvert_exporter": "python",
   "pygments_lexer": "ipython3",
   "version": "3.6.5"
  }
 },
 "nbformat": 4,
 "nbformat_minor": 2
}
