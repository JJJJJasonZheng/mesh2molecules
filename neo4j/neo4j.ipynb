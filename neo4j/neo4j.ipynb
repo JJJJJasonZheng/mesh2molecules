{
 "cells": [
  {
   "cell_type": "code",
   "execution_count": 1,
   "metadata": {},
   "outputs": [],
   "source": [
    "from neo4j import GraphDatabase\n",
    "import py2neo\n",
    "import pandas as pd\n",
    "import importlib\n",
    "import progressbar"
   ]
  },
  {
   "cell_type": "code",
   "execution_count": 2,
   "metadata": {},
   "outputs": [],
   "source": [
    "# Initialize connection to database\n",
    "driver = GraphDatabase.driver('bolt://localhost:7687', \n",
    "                              auth=('neo4j', '19992005zwj'), \n",
    "                              encrypted=False)"
   ]
  },
  {
   "cell_type": "code",
   "execution_count": 3,
   "metadata": {},
   "outputs": [],
   "source": [
    "query_test = \"MATCH (n:Pathway{stId:\\\"R-HSA-5205647\\\"}),(n1),p=(n)-[]-(n1) return p LIMIT 2\""
   ]
  },
  {
   "cell_type": "code",
   "execution_count": 6,
   "metadata": {},
   "outputs": [
    {
     "name": "stdout",
     "output_type": "stream",
     "text": [
      "MATCH (n1:Pathway) WITH n1 ORDER BY n1 LIMIT 2 MATCH (n1:Pathway)-[r]->(n2:Event) WITH n1,r,n2 MATCH (n2:Event)-[r1]->(n3:PhysicalEntity) RETURN n3 LIMIT 1\n"
     ]
    }
   ],
   "source": [
    "query0 = \"MATCH (n1:Pathway) WITH n1 ORDER BY n1 LIMIT 2 \"\n",
    "query1 = \"MATCH (n1:Pathway)-[r]->(n2:Event) WITH n1,r,n2 \"\n",
    "query2 = \"MATCH (n2:Event)-[r1]->(n3:PhysicalEntity) RETURN n3 LIMIT 1\"\n",
    "query = query0 + query1 + query2\n",
    "print(query)"
   ]
  },
  {
   "cell_type": "code",
   "execution_count": 7,
   "metadata": {},
   "outputs": [
    {
     "name": "stdout",
     "output_type": "stream",
     "text": [
      "[<Node id=6949 labels={'PhysicalEntity', 'Complex', 'DatabaseObject'} properties={'schemaClass': 'Complex', 'speciesName': 'Homo sapiens', 'isInDisease': False, 'displayName': 'p-PLINs:HSPA8 [cytosol]', 'stIdVersion': 'R-HSA-9620192.1', 'dbId': 9620192, 'name': ['p-PLINs:HSPA8'], 'isChimeric': False, 'stId': 'R-HSA-9620192'}>]\n",
      "\n"
     ]
    }
   ],
   "source": [
    "with driver.session() as session:\n",
    "    query = query0 + query1 + query2\n",
    "    info = session.run(query)\n",
    "    for item in info:\n",
    "        print((item.values()))\n",
    "        print()"
   ]
  },
  {
   "cell_type": "markdown",
   "metadata": {},
   "source": [
    "### Find disease related to heart disease"
   ]
  },
  {
   "cell_type": "code",
   "execution_count": 12,
   "metadata": {},
   "outputs": [],
   "source": [
    "query1 = \"MATCH (n:Disease) WHERE n.definition CONTAINS 'heart' RETURN n.name, n.definition\""
   ]
  },
  {
   "cell_type": "code",
   "execution_count": 13,
   "metadata": {},
   "outputs": [
    {
     "name": "stdout",
     "output_type": "stream",
     "text": [
      "name:  ['postural orthostatic tachycardia syndrome']\n",
      "definition:  A heart conduction disease characterized by orthostatic intolerance that has_material_basis_in heterozygous mutation in the SLC6A2 gene on chromosome 16q12.2.\n",
      "\n",
      "name:  ['congestive heart failure']\n",
      "definition:  A heart disease that is characterized by any structural or functional cardiac disorder that impairs the ability of the heart to fill with or pump a sufficient amount of blood throughout the body.\n",
      "\n",
      "name:  ['coronary artery disease']\n",
      "definition:  An artery disease that is characterized by plaque building up along the inner walls of the arteries of the heart resulting in a narrowing of the arteries and a reduced blood supply to the cardiac muscles.\n",
      "\n",
      "name:  ['cardiovascular system disease']\n",
      "definition:  A disease of anatomical entity which occurs in the blood, heart, blood vessels or the lymphatic system that passes nutrients (such as amino acids and electrolytes), gases, hormones, blood cells or lymph to and from cells in the body to help fight diseases and help stabilize body temperature and pH to maintain homeostasis.\n",
      "\n",
      "name:  ['atrial fibrillation']\n",
      "definition:  A heart conduction disease that is characterized by uncoordinated electrical activity in the heart's upper chambers (the atria), which causes the heartbeat to become fast and irregular and has symptoms palpitations, weakness, fatigue, lightheadedness, dizziness, confusion, shortness of breath and chest pain.\n",
      "\n",
      "name:  ['heart disease']\n",
      "definition:  A cardiovascular system disease that involves the heart.\n",
      "\n",
      "name:  ['heart conduction disease']\n",
      "definition:  A cardiovascular system disease that involves the heart's electrical conduction system.\n",
      "\n",
      "name:  ['cardiofaciocutaneous syndrome']\n",
      "definition:  A syndrome characterized by unusually sparse, brittle, curly hair, macrocephaly, a prominent forehead and bi-temporal narrowing, intellectual disability, failure to thrive, congenital heart defects, short stature and skin abnormalities, and has_material_basis_in mutation in the BRAF, MAP2K1, MAP2kK2 and KRAS genes.\n",
      "\n",
      "name:  ['diphtheria']\n",
      "definition:  A primary bacterial infectious disease that is characterized by sore throat, low fever, and an adherent membrane (a pseudomembrane) on the tonsils, pharynx, and/or nasal cavity. A milder form of diphtheria can be restricted to the skin. It is caused by Corynebacterium diphtheriae, an aerobic Gram-positive bacterium. Diphtheria toxin spreads through the bloodstream and can lead to potentially life-threatening complications that affect other organs of the body, such as the heart and kidneys.\n",
      "\n",
      "name:  ['dilated cardiomyopathy']\n",
      "definition:  An intrinsic cardiomyopathy that results in damage to the myocardium causing the heart to pump blood inefficiently and characterized by an enlarged heart.\n",
      "\n",
      "name:  ['short QT syndrome']\n",
      "definition:  A heart conduction disease that is characterized by heart arrhythmia defined as a short QT interval on an EKG (less than 300 ms) that does not significantly change with heart rate, tall and peaked T waves, and a structurally normal heart.\n",
      "\n"
     ]
    }
   ],
   "source": [
    "with driver.session() as session:\n",
    "    info = session.run(query1)\n",
    "    for item in info:\n",
    "        print(\"name: \", item.values()[0])\n",
    "        print(\"definition: \", item.values()[1])\n",
    "        print()"
   ]
  },
  {
   "cell_type": "code",
   "execution_count": 14,
   "metadata": {},
   "outputs": [],
   "source": [
    "query2 = \"MATCH (n:Disease) WHERE n.definition CONTAINS 'cardiovascular' RETURN n.name, n.definition\""
   ]
  },
  {
   "cell_type": "code",
   "execution_count": 17,
   "metadata": {},
   "outputs": [
    {
     "name": "stdout",
     "output_type": "stream",
     "text": [
      "name:  ['heart disease']\n",
      "definition:  A cardiovascular system disease that involves the heart.\n",
      "\n",
      "name:  ['heart conduction disease']\n",
      "definition:  A cardiovascular system disease that involves the heart's electrical conduction system.\n",
      "\n",
      "name:  ['pseudoxanthoma elasticum']\n",
      "definition:  An autosomal recessive disease characterized by the accumulation of deposits of calcium and other minerals in elastic fibers, which are a component of connective tissue, this can result in changes in the skin, eyes, cardiovascular system and gastrointestinal system.\n",
      "\n"
     ]
    }
   ],
   "source": [
    "with driver.session() as session:\n",
    "    info = session.run(query2)\n",
    "    for item in info:\n",
    "        print(\"name: \", item.values()[0])\n",
    "        print(\"definition: \", item.values()[1])\n",
    "        print()"
   ]
  },
  {
   "cell_type": "code",
   "execution_count": null,
   "metadata": {},
   "outputs": [],
   "source": []
  }
 ],
 "metadata": {
  "kernelspec": {
   "display_name": "Python 3",
   "language": "python",
   "name": "python3"
  },
  "language_info": {
   "codemirror_mode": {
    "name": "ipython",
    "version": 3
   },
   "file_extension": ".py",
   "mimetype": "text/x-python",
   "name": "python",
   "nbconvert_exporter": "python",
   "pygments_lexer": "ipython3",
   "version": "3.6.5"
  }
 },
 "nbformat": 4,
 "nbformat_minor": 2
}
