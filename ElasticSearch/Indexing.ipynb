{
 "cells": [
  {
   "cell_type": "code",
   "execution_count": 1,
   "metadata": {},
   "outputs": [],
   "source": [
    "import time\n",
    "import json as json\n",
    "import re\n",
    "import sys\n",
    "import os\n",
    "from collections import defaultdict\n",
    "from elasticsearch import Elasticsearch\n",
    "from elasticsearch_dsl import Search, Q"
   ]
  },
  {
   "cell_type": "markdown",
   "metadata": {},
   "source": [
    "### Initialize Indexing"
   ]
  },
  {
   "cell_type": "code",
   "execution_count": 2,
   "metadata": {},
   "outputs": [
    {
     "name": "stdout",
     "output_type": "stream",
     "text": [
      "Deleting index icd11 , Response: {'acknowledged': True}\n",
      "Create index icd11 , Response: {'acknowledged': True, 'shards_acknowledged': True, 'index': 'icd11'}\n"
     ]
    }
   ],
   "source": [
    "INDEX_NAME = \"icd11\"\n",
    "NUMBER_SHARDS = 1 # keep this as one if no clusterNUMBER_REPLICAS = 0 \n",
    "NUMBER_REPLICAS = 0\n",
    "\n",
    "request_body = {\n",
    "        \"settings\": {\n",
    "            \"number_of_shards\": NUMBER_SHARDS,\n",
    "            \"number_of_replicas\": NUMBER_REPLICAS\n",
    "        },\n",
    "        \"mappings\": {\n",
    "                \"properties\": {\n",
    "                    \"id\": {\n",
    "                        \"type\": \"keyword\"\n",
    "                    },\n",
    "                    \"tree\":{\n",
    "                        \"type\": \"text\"\n",
    "                    },\n",
    "                    \"name\":{\n",
    "                        \"type\": \"text\"\n",
    "                    },\n",
    "                    \"root\":{\n",
    "                        \"type\": \"text\"\n",
    "                    },\n",
    "                    \"degree\":{\n",
    "                        \"type\": \"integer\"\n",
    "                    },\n",
    "                    \"definition\":{\n",
    "                        \"type\": \"text\"\n",
    "                    },\n",
    "                    \"synonym\":{\n",
    "                        \"type\": \"text\"\n",
    "                    }\n",
    "                }\n",
    "            }\n",
    "        }\n",
    "    \n",
    "\n",
    "es = Elasticsearch()\n",
    "\n",
    "if es.indices.exists(INDEX_NAME):\n",
    "     res = es.indices.delete(index = INDEX_NAME)\n",
    "     print(\"Deleting index %s , Response: %s\" % (INDEX_NAME, res))\n",
    "    \n",
    "res = es.indices.create(index = INDEX_NAME, body = request_body)\n",
    "print(\"Create index %s , Response: %s\" % (INDEX_NAME, res))"
   ]
  },
  {
   "cell_type": "markdown",
   "metadata": {},
   "source": [
    "------------------"
   ]
  },
  {
   "cell_type": "markdown",
   "metadata": {},
   "source": [
    "### Populate the Index"
   ]
  },
  {
   "cell_type": "code",
   "execution_count": 3,
   "metadata": {},
   "outputs": [],
   "source": [
    "with open(\"./DATA.json\", 'r')as f2:\n",
    "    DATA= json.load(f2)"
   ]
  },
  {
   "cell_type": "code",
   "execution_count": 20,
   "metadata": {},
   "outputs": [
    {
     "data": {
      "text/plain": [
       "{'root': 'Symptoms, signs or clinical findings, not elsewhere classified',\n",
       " 'tree': 'Symptoms, signs or clinical findings, not elsewhere classified.Symptoms, signs or clinical findings of blood, blood-forming organs, or the immune system',\n",
       " 'name': 'Symptoms, signs or clinical findings of blood, blood-forming organs, or the immune system',\n",
       " 'parents': ['Symptoms, signs or clinical findings, not elsewhere classified',\n",
       "  'Diseases of the blood or blood-forming organs',\n",
       "  'Diseases of the immune system'],\n",
       " 'childs': ['Symptoms of blood, blood-forming organs, or the immune system',\n",
       "  'Clinical findings in blood, blood-forming organs, or the immune system'],\n",
       " 'sibls': ['Symptoms, signs or clinical findings of blood, blood-forming organs, or the immune system',\n",
       "  'Symptoms, signs or clinical findings of endocrine, nutritional or metabolic diseases',\n",
       "  'Symptoms, signs or clinical findings of speech or voice',\n",
       "  'Mental or behavioural symptoms, signs or clinical findings',\n",
       "  'Symptoms, signs or clinical findings of the nervous system',\n",
       "  'Symptoms, signs or clinical findings of the visual system',\n",
       "  'Symptoms, signs or clinical findings of ear or mastoid process',\n",
       "  'Symptoms, signs or clinical findings of the circulatory system',\n",
       "  'Symptoms, signs or clinical findings of the respiratory system',\n",
       "  'Symptoms, signs or clinical findings of the digestive system or abdomen',\n",
       "  'Symptoms, signs or clinical findings involving the skin',\n",
       "  'Symptoms, signs or clinical findings of the musculoskeletal system',\n",
       "  'Symptoms, signs or clinical findings of the genitourinary system',\n",
       "  'General symptoms, signs or clinical findings',\n",
       "  'Ill-defined and unknown causes of mortality',\n",
       "  'Clinical findings on antenatal screening of mother',\n",
       "  'Anaemias or other erythrocyte disorders',\n",
       "  'Coagulation defects, purpura or other haemorrhagic or related conditions',\n",
       "  'Diseases of spleen',\n",
       "  'Neoplasms of haematopoietic or lymphoid tissues',\n",
       "  'Symptoms, signs or clinical findings of blood, blood-forming organs, or the immune system',\n",
       "  'Congenital anomaly blood or lymph other',\n",
       "  'Immunodeficiencies',\n",
       "  'Non-organ specific systemic autoimmune disorders',\n",
       "  'Organ specific autoimmune disorders',\n",
       "  'Autoinflammatory disorders',\n",
       "  'Allergic or hypersensitivity conditions',\n",
       "  'Immune system disorders involving white cell lineages',\n",
       "  'Certain disorders involving the immune system',\n",
       "  'Symptoms, signs or clinical findings of blood, blood-forming organs, or the immune system',\n",
       "  'Diseases of thymus'],\n",
       " 'id': '1994504557',\n",
       " 'degree': 2,\n",
       " 'definition': 'Key Not found',\n",
       " 'synonym': 'Key Not found'}"
      ]
     },
     "execution_count": 20,
     "metadata": {},
     "output_type": "execute_result"
    }
   ],
   "source": [
    "len(DATA)\n",
    "DATA[1]"
   ]
  },
  {
   "cell_type": "code",
   "execution_count": 4,
   "metadata": {},
   "outputs": [
    {
     "name": "stdout",
     "output_type": "stream",
     "text": [
      " i bulk indexing... 2500, escaped time 1.5438988208770752 (seconds) \n",
      " i bulk indexing... 5000, escaped time 2.780668020248413 (seconds) \n",
      " i bulk indexing... 7500, escaped time 3.750823974609375 (seconds) \n",
      " i bulk indexing... 10000, escaped time 4.611407995223999 (seconds) \n",
      " i bulk indexing... 12500, escaped time 5.333524942398071 (seconds) \n",
      " i bulk indexing... 15000, escaped time 6.38757586479187 (seconds) \n",
      " i bulk indexing... 17500, escaped time 7.37838077545166 (seconds) \n",
      " i bulk indexing... 20000, escaped time 8.263475894927979 (seconds) \n",
      " i bulk indexing... 22500, escaped time 9.127120971679688 (seconds) \n",
      " i bulk indexing... 25000, escaped time 9.977980852127075 (seconds) \n",
      " i bulk indexing... 27500, escaped time 10.847924947738647 (seconds) \n",
      " i bulk indexing... 30000, escaped time 11.695907831192017 (seconds) \n",
      " i bulk indexing... 32500, escaped time 12.536273002624512 (seconds) \n",
      " i bulk indexing... 35000, escaped time 13.384302854537964 (seconds) \n",
      " i bulk indexing... 37500, escaped time 14.285467863082886 (seconds) \n",
      " i bulk indexing... 40000, escaped time 15.139758825302124 (seconds) \n",
      " i bulk indexing... 42500, escaped time 16.005368947982788 (seconds) \n",
      " i bulk indexing... 45000, escaped time 16.881439924240112 (seconds) \n",
      " i bulk indexing... 47500, escaped time 17.698957920074463 (seconds) \n",
      " i bulk indexing... 50000, escaped time 18.560822010040283 (seconds) \n",
      " i bulk indexing... 52500, escaped time 19.456570863723755 (seconds) \n",
      " i bulk indexing... 55000, escaped time 20.48123288154602 (seconds) \n",
      " i bulk indexing... 57500, escaped time 21.458070039749146 (seconds) \n",
      " i bulk indexing... 60000, escaped time 22.383312940597534 (seconds) \n",
      " i bulk indexing... 62500, escaped time 23.28510594367981 (seconds) \n",
      " i bulk indexing... 65000, escaped time 24.17160201072693 (seconds) \n",
      " i bulk indexing... 67500, escaped time 25.210216999053955 (seconds) \n",
      "Finish meta-data indexing. Total escaped time 25.6903817653656 (seconds) \n"
     ]
    }
   ],
   "source": [
    "logFilePath = \"log.txt\"\n",
    "\n",
    "INDEX_NAME = \"icd11\"\n",
    "\n",
    "es = Elasticsearch()\n",
    "\n",
    "ic = 0\n",
    "ir = 0\n",
    "\n",
    "with open(logFilePath, \"w\") as fout:\n",
    "        start = time.time()\n",
    "        bulk_size = 50 # number of document processed in each bulk index\n",
    "        bulk_data = [] # data in bulk index\n",
    "\n",
    "        cnt = 0\n",
    "        for item in DATA: ## each item is single document\n",
    "                cnt += 1\n",
    "                \n",
    "                data_dict = {}\n",
    "                \n",
    "                # update ID\n",
    "                data_dict[\"id\"] = item[\"id\"]\n",
    "                \n",
    "        \n",
    "\n",
    "                # update detail<------------------\n",
    "                data_dict[\"tree\"] = item[\"tree\"]\n",
    "                data_dict[\"root\"] = item[\"root\"]\n",
    "                data_dict[\"name\"] = item[\"name\"]\n",
    "                data_dict['parents']=item['parents']\n",
    "                data_dict['childs'] = item['childs']\n",
    "                data_dict[\"sibls\"] = item[\"sibls\"]\n",
    "                data_dict[\"degree\"] = item[\"degree\"]\n",
    "                data_dict[\"synonym\"] = item[\"synonym\"]\n",
    "                data_dict[\"definition\"] = item[\"definition\"]\n",
    "\n",
    "                        \n",
    "                \n",
    "                ## Put current data into the bulk <---------\n",
    "                op_dict = {\n",
    "                    \"index\": {\n",
    "                        \"_index\": INDEX_NAME,\n",
    "                        \"_id\": data_dict[\"id\"]\n",
    "                    }\n",
    "                }\n",
    "\n",
    "                bulk_data.append(op_dict)\n",
    "                bulk_data.append(data_dict) \n",
    "                \n",
    "                \n",
    "                \n",
    "                        \n",
    "                ## Start Bulk indexing\n",
    "                if cnt % bulk_size == 0 and cnt != 0:\n",
    "                    ic += 1\n",
    "                    tmp = time.time()\n",
    "                    es.bulk(index=INDEX_NAME, body=bulk_data, request_timeout = 500)\n",
    "                    fout.write(\"bulk indexing... %s, escaped time %s (seconds) \\n\" \\\n",
    "                               % ( cnt, tmp - start ) )\n",
    "                    \n",
    "                    if ic%50 ==0:\n",
    "                        print(\" i bulk indexing... %s, escaped time %s (seconds) \" \\\n",
    "                              % ( cnt, tmp - start ) )\n",
    "                    \n",
    "                    \n",
    "                    bulk_data = []\n",
    "                \n",
    "                \n",
    "        \n",
    "        ## indexing those left papers\n",
    "        if bulk_data:\n",
    "            ir +=1\n",
    "            tmp = time.time()\n",
    "            es.bulk(index=INDEX_NAME, body=bulk_data, request_timeout = 500)\n",
    "            fout.write(\"bulk indexing... %s, escaped time %s (seconds) \\n\"\\\n",
    "                       % ( cnt, tmp - start ) )\n",
    "            \n",
    "            if ir%50 ==0:\n",
    "                print(\" r bulk indexing... %s, escaped time %s (seconds) \"\\\n",
    "                      % ( cnt, tmp - start ) )\n",
    "            bulk_data = []\n",
    "            \n",
    "        \n",
    "\n",
    "        end = time.time()\n",
    "        fout.write(\"Finish  meta-data indexing. Total escaped time %s (seconds) \\n\"\\\n",
    "                   % (end - start) )\n",
    "        print(\"Finish meta-data indexing. Total escaped time %s (seconds) \"\\\n",
    "              % (end - start) )"
   ]
  },
  {
   "cell_type": "code",
   "execution_count": null,
   "metadata": {},
   "outputs": [],
   "source": []
  }
 ],
 "metadata": {
  "kernelspec": {
   "display_name": "Python 3",
   "language": "python",
   "name": "python3"
  },
  "language_info": {
   "codemirror_mode": {
    "name": "ipython",
    "version": 3
   },
   "file_extension": ".py",
   "mimetype": "text/x-python",
   "name": "python",
   "nbconvert_exporter": "python",
   "pygments_lexer": "ipython3",
   "version": "3.6.5"
  }
 },
 "nbformat": 4,
 "nbformat_minor": 2
}
